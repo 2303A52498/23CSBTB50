{
  "nbformat": 4,
  "nbformat_minor": 0,
  "metadata": {
    "colab": {
      "provenance": []
    },
    "kernelspec": {
      "name": "python3",
      "display_name": "Python 3"
    },
    "language_info": {
      "name": "python"
    }
  },
  "cells": [
    {
      "cell_type": "code",
      "execution_count": null,
      "metadata": {
        "colab": {
          "base_uri": "https://localhost:8080/"
        },
        "id": "TvWePib31ILW",
        "outputId": "920bed69-1bea-4cf9-cbf2-648a3d7a18b2"
      },
      "outputs": [
        {
          "output_type": "stream",
          "name": "stdout",
          "text": [
            "    STUDENT ID STUDENT NAME  AGE     CONTACT\n",
            "0   2303A52498         levi   18  7396158348\n",
            "1   2303A52499       mikasa   19  7396158349\n",
            "2   2303A52500        tokyo   20  7396158350\n",
            "3   2303A52501        armin   21  7396158351\n",
            "4   2303A52502         eren   22  7396158352\n",
            "5   2303A52503       yeager   23  7396158353\n",
            "6   2303A52504         jean   24  7396158354\n",
            "7   2303A52505      christa   25  7396158355\n",
            "8   2303A52506        kenny   26  7396158356\n",
            "9   2303A52507        hange   27  7396158357\n",
            "10  2303A52508       moblit   28  7396158358\n",
            "11  2303A52509        erwin   29  7396158359\n",
            "12  2303A52510       grisha   30  7396158360\n",
            "13  2303A52511        kevin   31  7396158361\n",
            "14  2303A52512   ken kanaki   32  7396158362\n",
            "15  2303A52513        sasha   33  7396158363\n",
            "16  2303A52514        conny   34  7396158364\n",
            "17  2303A52515         zeke   35  7396158365\n",
            "18  2303A52516       reiner   36  7396158366\n"
          ]
        }
      ],
      "source": [
        "import pandas as pd\n",
        "data=pd.read_excel(\"assign1.xlsx\")\n",
        "print(data)"
      ]
    },
    {
      "cell_type": "code",
      "source": [
        "data1=pd.read_csv(\"assign1.csv\")\n",
        "print(data1)"
      ],
      "metadata": {
        "colab": {
          "base_uri": "https://localhost:8080/"
        },
        "id": "Z3fG3U444bop",
        "outputId": "ece20c6f-7dd8-4c25-d29a-ca5b377a4c0a"
      },
      "execution_count": null,
      "outputs": [
        {
          "output_type": "stream",
          "name": "stdout",
          "text": [
            "    STUDENT ID STUDENT NAME  AGE     CONTACT\n",
            "0   2303A52498         levi   18  7396158348\n",
            "1   2303A52499       mikasa   19  7396158349\n",
            "2   2303A52500        tokyo   20  7396158350\n",
            "3   2303A52501        armin   21  7396158351\n",
            "4   2303A52502         eren   22  7396158352\n",
            "5   2303A52503       yeager   23  7396158353\n",
            "6   2303A52504         jean   24  7396158354\n",
            "7   2303A52505      christa   25  7396158355\n",
            "8   2303A52506        kenny   26  7396158356\n",
            "9   2303A52507        hange   27  7396158357\n",
            "10  2303A52508       moblit   28  7396158358\n",
            "11  2303A52509        erwin   29  7396158359\n",
            "12  2303A52510       grisha   30  7396158360\n",
            "13  2303A52511        kevin   31  7396158361\n",
            "14  2303A52512   ken kanaki   32  7396158362\n",
            "15  2303A52513        sasha   33  7396158363\n",
            "16  2303A52514        conny   34  7396158364\n",
            "17  2303A52515         zeke   35  7396158365\n",
            "18  2303A52516       reiner   36  7396158366\n"
          ]
        }
      ]
    },
    {
      "cell_type": "code",
      "source": [
        "import pandas as pd\n",
        "\n",
        "# To read data from a text file, use 'read_csv' with appropriate delimiter\n",
        "data2 = pd.read_csv(\"assign1.txt\", delimiter=\"\\t\")  # Assuming tab as delimiter, adjust if needed\n",
        "print(data2)"
      ],
      "metadata": {
        "colab": {
          "base_uri": "https://localhost:8080/"
        },
        "id": "NwN4l-eL4ZLC",
        "outputId": "f0f46e1a-da3c-4c1d-8fef-d2478ba11ed6"
      },
      "execution_count": null,
      "outputs": [
        {
          "output_type": "stream",
          "name": "stdout",
          "text": [
            "    STUDENT ID STUDENT NAME  AGE     CONTACT\n",
            "0   2303A52498         levi   18  7396158348\n",
            "1   2303A52499       mikasa   19  7396158349\n",
            "2   2303A52500        tokyo   20  7396158350\n",
            "3   2303A52501        armin   21  7396158351\n",
            "4   2303A52502         eren   22  7396158352\n",
            "5   2303A52503       yeager   23  7396158353\n",
            "6   2303A52504         jean   24  7396158354\n",
            "7   2303A52505      christa   25  7396158355\n",
            "8   2303A52506        kenny   26  7396158356\n",
            "9   2303A52507        hange   27  7396158357\n",
            "10  2303A52508       moblit   28  7396158358\n",
            "11  2303A52509        erwin   29  7396158359\n",
            "12  2303A52510       grisha   30  7396158360\n",
            "13  2303A52511        kevin   31  7396158361\n",
            "14  2303A52512   ken kanaki   32  7396158362\n",
            "15  2303A52513        sasha   33  7396158363\n",
            "16  2303A52514        conny   34  7396158364\n",
            "17  2303A52515         zeke   35  7396158365\n",
            "18  2303A52516       reiner   36  7396158366\n"
          ]
        }
      ]
    },
    {
      "cell_type": "code",
      "source": [
        "data3=pd.read_csv(\"/content/games_dataset.csv\")\n",
        "print(data3)"
      ],
      "metadata": {
        "colab": {
          "base_uri": "https://localhost:8080/"
        },
        "id": "RlDoQeu_67m8",
        "outputId": "b280468c-e411-40b3-f494-5e31dbe43c76"
      },
      "execution_count": null,
      "outputs": [
        {
          "output_type": "stream",
          "name": "stdout",
          "text": [
            "                                    Game Name       Genre         Platform  \\\n",
            "0                   Sekiro: Shadows Die Twice      Sports  Nintendo Switch   \n",
            "1                                     Control      Puzzle  Nintendo Switch   \n",
            "2                                    Among Us    Strategy  Nintendo Switch   \n",
            "3                Call of Duty: Modern Warfare     Stealth      PlayStation   \n",
            "4                           League of Legends  Simulation               PC   \n",
            "...                                       ...         ...              ...   \n",
            "4995  The Legend of Zelda: Breath of the Wild      Sports               PC   \n",
            "4996                Assassin's Creed Valhalla     Stealth           Mobile   \n",
            "4997             Fall Guys: Ultimate Knockout      Sports           Mobile   \n",
            "4998                            Borderlands 3  Platformer             Xbox   \n",
            "4999         Counter-Strike: Global Offensive      Action      PlayStation   \n",
            "\n",
            "      Release Year  User Rating  \n",
            "0             2014     9.654719  \n",
            "1             2000     3.457386  \n",
            "2             2007     5.367622  \n",
            "3             2005     1.240325  \n",
            "4             2021     3.535476  \n",
            "...            ...          ...  \n",
            "4995          2013     6.352838  \n",
            "4996          2020     1.852730  \n",
            "4997          2021     5.268067  \n",
            "4998          2018     4.558510  \n",
            "4999          2022     3.443231  \n",
            "\n",
            "[5000 rows x 5 columns]\n"
          ]
        }
      ]
    },
    {
      "cell_type": "code",
      "source": [
        "data4=pd.read_csv(\"/content/HEART.csv\")\n",
        "print(data4)"
      ],
      "metadata": {
        "colab": {
          "base_uri": "https://localhost:8080/"
        },
        "id": "aYUe0nte8XTc",
        "outputId": "95cece33-1594-4d7e-c31e-f743bab247d6"
      },
      "execution_count": null,
      "outputs": [
        {
          "output_type": "stream",
          "name": "stdout",
          "text": [
            "      age  sex  cp  trestbps  chol  fbs  restecg  thalach  exang  oldpeak  \\\n",
            "0      52    1   0       125   212    0        1      168      0      1.0   \n",
            "1      53    1   0       140   203    1        0      155      1      3.1   \n",
            "2      70    1   0       145   174    0        1      125      1      2.6   \n",
            "3      61    1   0       148   203    0        1      161      0      0.0   \n",
            "4      62    0   0       138   294    1        1      106      0      1.9   \n",
            "...   ...  ...  ..       ...   ...  ...      ...      ...    ...      ...   \n",
            "1020   59    1   1       140   221    0        1      164      1      0.0   \n",
            "1021   60    1   0       125   258    0        0      141      1      2.8   \n",
            "1022   47    1   0       110   275    0        0      118      1      1.0   \n",
            "1023   50    0   0       110   254    0        0      159      0      0.0   \n",
            "1024   54    1   0       120   188    0        1      113      0      1.4   \n",
            "\n",
            "      slope  ca  thal  target  \n",
            "0         2   2     3       0  \n",
            "1         0   0     3       0  \n",
            "2         0   0     3       0  \n",
            "3         2   1     3       0  \n",
            "4         1   3     2       0  \n",
            "...     ...  ..   ...     ...  \n",
            "1020      2   0     2       1  \n",
            "1021      1   1     3       0  \n",
            "1022      1   1     2       0  \n",
            "1023      2   0     2       1  \n",
            "1024      1   1     3       0  \n",
            "\n",
            "[1025 rows x 14 columns]\n"
          ]
        }
      ]
    }
  ]
}